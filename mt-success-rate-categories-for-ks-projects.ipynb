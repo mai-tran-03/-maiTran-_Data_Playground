{
 "cells": [
  {
   "cell_type": "code",
   "execution_count": 1,
   "id": "394690c4",
   "metadata": {
    "_cell_guid": "b1076dfc-b9ad-4769-8c92-a6c4dae69d19",
    "_uuid": "8f2839f25d086af736a60e9eeb907d3b93b6e0e5",
    "execution": {
     "iopub.execute_input": "2022-04-20T16:55:04.823753Z",
     "iopub.status.busy": "2022-04-20T16:55:04.823173Z",
     "iopub.status.idle": "2022-04-20T16:55:04.844139Z",
     "shell.execute_reply": "2022-04-20T16:55:04.843258Z"
    },
    "papermill": {
     "duration": 0.04022,
     "end_time": "2022-04-20T16:55:04.847762",
     "exception": false,
     "start_time": "2022-04-20T16:55:04.807542",
     "status": "completed"
    },
    "tags": []
   },
   "outputs": [
    {
     "name": "stdout",
     "output_type": "stream",
     "text": [
      "/kaggle/input/kickstarter-projects/ks-projects-201801.csv\n",
      "/kaggle/input/kickstarter-projects/ks-projects-201612.csv\n"
     ]
    }
   ],
   "source": [
    "# This Python 3 environment comes with many helpful analytics libraries installed\n",
    "# It is defined by the kaggle/python Docker image: https://github.com/kaggle/docker-python\n",
    "# For example, here's several helpful packages to load\n",
    "\n",
    "import numpy as np # linear algebra\n",
    "import pandas as pd # data processing, CSV file I/O (e.g. pd.read_csv)\n",
    "\n",
    "# Input data files are available in the read-only \"../input/\" directory\n",
    "# For example, running this (by clicking run or pressing Shift+Enter) will list all files under the input directory\n",
    "\n",
    "import os\n",
    "for dirname, _, filenames in os.walk('/kaggle/input'):\n",
    "    for filename in filenames:\n",
    "        print(os.path.join(dirname, filename))\n",
    "\n",
    "# You can write up to 20GB to the current directory (/kaggle/working/) that gets preserved as output when you create a version using \"Save & Run All\" \n",
    "# You can also write temporary files to /kaggle/temp/, but they won't be saved outside of the current session"
   ]
  },
  {
   "cell_type": "code",
   "execution_count": 2,
   "id": "e9e4c86e",
   "metadata": {
    "execution": {
     "iopub.execute_input": "2022-04-20T16:55:04.876142Z",
     "iopub.status.busy": "2022-04-20T16:55:04.875593Z",
     "iopub.status.idle": "2022-04-20T16:55:07.764548Z",
     "shell.execute_reply": "2022-04-20T16:55:07.763596Z"
    },
    "papermill": {
     "duration": 2.905485,
     "end_time": "2022-04-20T16:55:07.766976",
     "exception": false,
     "start_time": "2022-04-20T16:55:04.861491",
     "status": "completed"
    },
    "tags": []
   },
   "outputs": [
    {
     "name": "stdout",
     "output_type": "stream",
     "text": [
      "<class 'pandas.core.frame.DataFrame'>\n",
      "RangeIndex: 378661 entries, 0 to 378660\n",
      "Data columns (total 15 columns):\n",
      " #   Column            Non-Null Count   Dtype  \n",
      "---  ------            --------------   -----  \n",
      " 0   ID                378661 non-null  int64  \n",
      " 1   name              378657 non-null  object \n",
      " 2   category          378661 non-null  object \n",
      " 3   main_category     378661 non-null  object \n",
      " 4   currency          378661 non-null  object \n",
      " 5   deadline          378661 non-null  object \n",
      " 6   goal              378661 non-null  float64\n",
      " 7   launched          378661 non-null  object \n",
      " 8   pledged           378661 non-null  float64\n",
      " 9   state             378661 non-null  object \n",
      " 10  backers           378661 non-null  int64  \n",
      " 11  country           378661 non-null  object \n",
      " 12  usd pledged       374864 non-null  float64\n",
      " 13  usd_pledged_real  378661 non-null  float64\n",
      " 14  usd_goal_real     378661 non-null  float64\n",
      "dtypes: float64(5), int64(2), object(8)\n",
      "memory usage: 43.3+ MB\n"
     ]
    }
   ],
   "source": [
    "ds = pd.read_csv(\"/kaggle/input/kickstarter-projects/ks-projects-201801.csv\")\n",
    "ds.info()"
   ]
  },
  {
   "cell_type": "code",
   "execution_count": 3,
   "id": "5c4b2439",
   "metadata": {
    "execution": {
     "iopub.execute_input": "2022-04-20T16:55:07.794603Z",
     "iopub.status.busy": "2022-04-20T16:55:07.793543Z",
     "iopub.status.idle": "2022-04-20T16:55:07.870235Z",
     "shell.execute_reply": "2022-04-20T16:55:07.869398Z"
    },
    "papermill": {
     "duration": 0.093916,
     "end_time": "2022-04-20T16:55:07.873490",
     "exception": false,
     "start_time": "2022-04-20T16:55:07.779574",
     "status": "completed"
    },
    "tags": []
   },
   "outputs": [
    {
     "data": {
      "text/plain": [
       "failed        197719\n",
       "successful    133956\n",
       "canceled       38779\n",
       "undefined       3562\n",
       "live            2799\n",
       "suspended       1846\n",
       "Name: state, dtype: int64"
      ]
     },
     "execution_count": 3,
     "metadata": {},
     "output_type": "execute_result"
    }
   ],
   "source": [
    "ds[[\"main_category\",\"state\"]]\n",
    "ds[\"state\"].value_counts()"
   ]
  },
  {
   "cell_type": "code",
   "execution_count": 4,
   "id": "a41b7712",
   "metadata": {
    "execution": {
     "iopub.execute_input": "2022-04-20T16:55:07.901764Z",
     "iopub.status.busy": "2022-04-20T16:55:07.901423Z",
     "iopub.status.idle": "2022-04-20T16:55:08.135835Z",
     "shell.execute_reply": "2022-04-20T16:55:08.134788Z"
    },
    "papermill": {
     "duration": 0.251727,
     "end_time": "2022-04-20T16:55:08.138208",
     "exception": false,
     "start_time": "2022-04-20T16:55:07.886481",
     "status": "completed"
    },
    "tags": []
   },
   "outputs": [
    {
     "data": {
      "text/plain": [
       "failed        197719\n",
       "successful    133956\n",
       "canceled       38779\n",
       "suspended       1846\n",
       "Name: state, dtype: int64"
      ]
     },
     "execution_count": 4,
     "metadata": {},
     "output_type": "execute_result"
    }
   ],
   "source": [
    "compProj = ds[(ds[\"state\"] != \"undefined\") & (ds[\"state\"] != \"live\")]\n",
    "compProj[\"state\"].value_counts()"
   ]
  },
  {
   "cell_type": "code",
   "execution_count": 5,
   "id": "8a1c8940",
   "metadata": {
    "execution": {
     "iopub.execute_input": "2022-04-20T16:55:08.167880Z",
     "iopub.status.busy": "2022-04-20T16:55:08.167039Z",
     "iopub.status.idle": "2022-04-20T16:55:08.232649Z",
     "shell.execute_reply": "2022-04-20T16:55:08.231125Z"
    },
    "papermill": {
     "duration": 0.083362,
     "end_time": "2022-04-20T16:55:08.235005",
     "exception": false,
     "start_time": "2022-04-20T16:55:08.151643",
     "status": "completed"
    },
    "tags": []
   },
   "outputs": [
    {
     "name": "stdout",
     "output_type": "stream",
     "text": [
      "Film & Video    62399\n",
      "Music           49403\n",
      "Publishing      39113\n",
      "Games           34943\n",
      "Technology      32189\n",
      "Design          29763\n",
      "Art             27959\n",
      "Food            24418\n",
      "Fashion         22563\n",
      "Theater         10871\n",
      "Comics          10743\n",
      "Photography     10730\n",
      "Crafts           8733\n",
      "Journalism       4724\n",
      "Dance            3749\n",
      "Name: main_category, dtype: int64\n"
     ]
    }
   ],
   "source": [
    "totProjCount = compProj[\"main_category\"].value_counts()\n",
    "print(totProjCount)"
   ]
  },
  {
   "cell_type": "code",
   "execution_count": 6,
   "id": "cf55a311",
   "metadata": {
    "execution": {
     "iopub.execute_input": "2022-04-20T16:55:08.263965Z",
     "iopub.status.busy": "2022-04-20T16:55:08.263643Z",
     "iopub.status.idle": "2022-04-20T16:55:08.374726Z",
     "shell.execute_reply": "2022-04-20T16:55:08.373288Z"
    },
    "papermill": {
     "duration": 0.12863,
     "end_time": "2022-04-20T16:55:08.377367",
     "exception": false,
     "start_time": "2022-04-20T16:55:08.248737",
     "status": "completed"
    },
    "tags": []
   },
   "outputs": [
    {
     "name": "stdout",
     "output_type": "stream",
     "text": [
      "Music           24197\n",
      "Film & Video    23623\n",
      "Games           12518\n",
      "Publishing      12300\n",
      "Art             11510\n",
      "Design          10550\n",
      "Theater          6534\n",
      "Technology       6434\n",
      "Food             6085\n",
      "Comics           5842\n",
      "Fashion          5593\n",
      "Photography      3305\n",
      "Dance            2338\n",
      "Crafts           2115\n",
      "Journalism       1012\n",
      "Name: main_category, dtype: int64\n"
     ]
    }
   ],
   "source": [
    "susProj = compProj[compProj[\"state\"] == \"successful\"]\n",
    "susProjCount = susProj[\"main_category\"].value_counts()\n",
    "print(susProjCount)"
   ]
  },
  {
   "cell_type": "code",
   "execution_count": 7,
   "id": "cbf5ce65",
   "metadata": {
    "execution": {
     "iopub.execute_input": "2022-04-20T16:55:08.407667Z",
     "iopub.status.busy": "2022-04-20T16:55:08.407307Z",
     "iopub.status.idle": "2022-04-20T16:55:08.420239Z",
     "shell.execute_reply": "2022-04-20T16:55:08.419627Z"
    },
    "papermill": {
     "duration": 0.031157,
     "end_time": "2022-04-20T16:55:08.422864",
     "exception": false,
     "start_time": "2022-04-20T16:55:08.391707",
     "status": "completed"
    },
    "tags": []
   },
   "outputs": [
    {
     "data": {
      "text/plain": [
       "Technology      19.988195\n",
       "Journalism      21.422523\n",
       "Crafts          24.218482\n",
       "Fashion         24.788370\n",
       "Food            24.920141\n",
       "Photography     30.801491\n",
       "Publishing      31.447345\n",
       "Design          35.446696\n",
       "Games           35.824056\n",
       "Film & Video    37.857978\n",
       "Art             41.167424\n",
       "Music           48.978807\n",
       "Comics          54.379596\n",
       "Theater         60.104866\n",
       "Dance           62.363297\n",
       "Name: main_category, dtype: float64"
      ]
     },
     "execution_count": 7,
     "metadata": {},
     "output_type": "execute_result"
    }
   ],
   "source": [
    "percentSuccess = susProjCount/totProjCount * 100\n",
    "percentSuccess.sort_values()"
   ]
  },
  {
   "cell_type": "code",
   "execution_count": 8,
   "id": "a8ad8f57",
   "metadata": {
    "execution": {
     "iopub.execute_input": "2022-04-20T16:55:08.454078Z",
     "iopub.status.busy": "2022-04-20T16:55:08.453773Z",
     "iopub.status.idle": "2022-04-20T16:55:08.457142Z",
     "shell.execute_reply": "2022-04-20T16:55:08.456425Z"
    },
    "papermill": {
     "duration": 0.021664,
     "end_time": "2022-04-20T16:55:08.459083",
     "exception": false,
     "start_time": "2022-04-20T16:55:08.437419",
     "status": "completed"
    },
    "tags": []
   },
   "outputs": [],
   "source": [
    "# The Dance category has the least number of projects, totaling to 3749.\n",
    "# In totProjCount, count total from filtered dataset removing the \"undefined\" and \"live\" projects.\n",
    "# The Dance category has the highest successful percent of 62.36%.\n",
    "# In percentSuccess, success rate from filtered dataset susProjCount divided by totProjCount."
   ]
  },
  {
   "cell_type": "code",
   "execution_count": 9,
   "id": "8c0ca7a3",
   "metadata": {
    "execution": {
     "iopub.execute_input": "2022-04-20T16:55:08.491029Z",
     "iopub.status.busy": "2022-04-20T16:55:08.490416Z",
     "iopub.status.idle": "2022-04-20T16:55:08.498498Z",
     "shell.execute_reply": "2022-04-20T16:55:08.497681Z"
    },
    "papermill": {
     "duration": 0.02693,
     "end_time": "2022-04-20T16:55:08.500670",
     "exception": false,
     "start_time": "2022-04-20T16:55:08.473740",
     "status": "completed"
    },
    "tags": []
   },
   "outputs": [
    {
     "data": {
      "text/plain": [
       "Dance           37.636703\n",
       "Theater         39.895134\n",
       "Comics          45.620404\n",
       "Music           51.021193\n",
       "Art             58.832576\n",
       "Film & Video    62.142022\n",
       "Games           64.175944\n",
       "Design          64.553304\n",
       "Publishing      68.552655\n",
       "Photography     69.198509\n",
       "Food            75.079859\n",
       "Fashion         75.211630\n",
       "Crafts          75.781518\n",
       "Journalism      78.577477\n",
       "Technology      80.011805\n",
       "Name: main_category, dtype: float64"
      ]
     },
     "execution_count": 9,
     "metadata": {},
     "output_type": "execute_result"
    }
   ],
   "source": [
    "percentFail = 100 - percentSuccess\n",
    "percentFail.sort_values()"
   ]
  },
  {
   "cell_type": "code",
   "execution_count": 10,
   "id": "e4369ac7",
   "metadata": {
    "execution": {
     "iopub.execute_input": "2022-04-20T16:55:08.533874Z",
     "iopub.status.busy": "2022-04-20T16:55:08.533090Z",
     "iopub.status.idle": "2022-04-20T16:55:08.674821Z",
     "shell.execute_reply": "2022-04-20T16:55:08.673865Z"
    },
    "papermill": {
     "duration": 0.161451,
     "end_time": "2022-04-20T16:55:08.677178",
     "exception": false,
     "start_time": "2022-04-20T16:55:08.515727",
     "status": "completed"
    },
    "tags": []
   },
   "outputs": [
    {
     "data": {
      "text/plain": [
       "Dance           32.942118\n",
       "Theater         34.109098\n",
       "Comics          37.568649\n",
       "Music           44.029715\n",
       "Games           45.797442\n",
       "Design          49.773208\n",
       "Art             50.541865\n",
       "Film & Video    52.731614\n",
       "Publishing      59.174699\n",
       "Photography     59.496738\n",
       "Fashion         62.855117\n",
       "Technology      64.046724\n",
       "Crafts          65.304019\n",
       "Food            65.398477\n",
       "Journalism      66.405588\n",
       "Name: main_category, dtype: float64"
      ]
     },
     "execution_count": 10,
     "metadata": {},
     "output_type": "execute_result"
    }
   ],
   "source": [
    "failProj = compProj[compProj[\"state\"] == \"failed\"]\n",
    "failProjCount = failProj[\"main_category\"].value_counts()\n",
    "percentFail = failProjCount/totProjCount * 100\n",
    "percentFail.sort_values()"
   ]
  }
 ],
 "metadata": {
  "kernelspec": {
   "display_name": "Python 3",
   "language": "python",
   "name": "python3"
  },
  "language_info": {
   "codemirror_mode": {
    "name": "ipython",
    "version": 3
   },
   "file_extension": ".py",
   "mimetype": "text/x-python",
   "name": "python",
   "nbconvert_exporter": "python",
   "pygments_lexer": "ipython3",
   "version": "3.7.12"
  },
  "papermill": {
   "default_parameters": {},
   "duration": 15.49364,
   "end_time": "2022-04-20T16:55:09.617128",
   "environment_variables": {},
   "exception": null,
   "input_path": "__notebook__.ipynb",
   "output_path": "__notebook__.ipynb",
   "parameters": {},
   "start_time": "2022-04-20T16:54:54.123488",
   "version": "2.3.4"
  }
 },
 "nbformat": 4,
 "nbformat_minor": 5
}
